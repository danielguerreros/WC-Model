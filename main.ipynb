{
 "cells": [
  {
   "cell_type": "markdown",
   "metadata": {},
   "source": [
    "# World Cup Model\n",
    "\n",
    "In this notebook you will find the proccess that I followed to create a prediction model for the 2022 World Cup. The data that I used can be found in [Kaggle](https://www.kaggle.com/datasets/martj42/international-football-results-from-1872-to-2017)"
   ]
  },
  {
   "cell_type": "code",
   "execution_count": 88,
   "metadata": {},
   "outputs": [],
   "source": [
    "import pandas as pd\n",
    "import matplotlib.pyplot as plt\n",
    "import numpy as np\n",
    "import seaborn\n",
    "from scipy.stats import poisson,skellam\n",
    "import datetime as dt\n",
    "import warnings\n",
    "warnings.filterwarnings('ignore')\n",
    "\n",
    "import statsmodels.api as sm\n",
    "import statsmodels.formula.api as smf"
   ]
  },
  {
   "cell_type": "markdown",
   "metadata": {},
   "source": [
    "## 1. Calculate Elo\n",
    "\n",
    "To train the prediction model we will need the elo score of both teams. To calculate elo we will create some useful functions. If you want to understand how to use these go to [my post about elo in Medium](https://medium.com/mlearning-ai/how-to-calculate-elo-score-for-international-teams-using-python-66c136f01048). The data that we use can be found in [Kaggle](https://www.kaggle.com/datasets/martj42/international-football-results-from-1872-to-2017)"
   ]
  },
  {
   "cell_type": "markdown",
   "metadata": {},
   "source": [
    "### 1.2 Elo functions"
   ]
  },
  {
   "cell_type": "code",
   "execution_count": 89,
   "metadata": {},
   "outputs": [],
   "source": [
    "confederation_tournaments=['AFC Asian Cup','African Cup of Nations','UEFA Euro','Copa América','CONCACAF Championship','Oceania Nations Cup']\n",
    "\n",
    "def k_value(tournament):\n",
    "    k=5\n",
    "    if tournament == 'Friendly':\n",
    "        k=10\n",
    "    elif tournament == 'FIFA World Cup qualification':\n",
    "        k=25\n",
    "    elif tournament in confederation_tournaments:\n",
    "        k=40\n",
    "    elif tournament == 'FIFA World Cup':\n",
    "        k=55\n",
    "    return k\n",
    "    \n",
    "def expected_result(loc,aw):\n",
    "    dr=loc-aw\n",
    "    we=(1/(10**(-dr/400)+1))\n",
    "    return [np.round(we,3),1-np.round(we,3)]\n",
    "\n",
    "def actual_result(loc,aw):\n",
    "    if loc<aw:\n",
    "        wa=1\n",
    "        wl=0\n",
    "    elif loc>aw:\n",
    "        wa=0\n",
    "        wl=1\n",
    "    elif loc==aw:\n",
    "        wa=0.5\n",
    "        wl=0.5\n",
    "    return [wl,wa]\n",
    "\n",
    "def calculate_elo(elo_l,elo_v,local_goals,away_goals,tournament):\n",
    "    \n",
    "    k=k_value(tournament)\n",
    "    wl,wv=actual_result(local_goals,away_goals)\n",
    "    wel,wev=expected_result(elo_l,elo_v)\n",
    "\n",
    "    elo_ln=elo_l+k*(wl-wel)\n",
    "    elo_vn=elo_v+k*(wv-wev)\n",
    "\n",
    "    return elo_ln,elo_vn"
   ]
  },
  {
   "cell_type": "markdown",
   "metadata": {},
   "source": [
    "### 1.2 Calculate ELO"
   ]
  },
  {
   "cell_type": "code",
   "execution_count": 90,
   "metadata": {},
   "outputs": [],
   "source": [
    "matches = pd.read_csv(\"data/results.csv\").sort_values('date')\n",
    "\n",
    "matches[\"Elo_h_before\"]=np.nan\n",
    "matches[\"Elo_a_before\"]=np.nan\n",
    "\n",
    "matches[\"Elo_h_after\"]=np.nan\n",
    "matches[\"Elo_a_after\"]=np.nan\n",
    "\n",
    "current_elo={}\n",
    "for idx,row in matches.iterrows():\n",
    "    \n",
    "    local=row['home_team']\n",
    "    away=row['away_team']\n",
    "    local_goals=row['home_score']\n",
    "    away_goals=row['away_score']\n",
    "    tournament = row['tournament']\n",
    "    \n",
    "    # Si el equipo no se le ha calculado el ELO, se le inicializa en 1300\n",
    "    if local not in current_elo.keys():\n",
    "        current_elo[local]=1300\n",
    "    \n",
    "    if away not in current_elo.keys():\n",
    "        current_elo[away]=1300\n",
    "    \n",
    "    elo_l=current_elo[local]\n",
    "    elo_v=current_elo[away]\n",
    "    elo_ln,elo_vn=calculate_elo(elo_l,elo_v,local_goals,away_goals,tournament)\n",
    "\n",
    "    current_elo[local]=elo_ln\n",
    "    current_elo[away]=elo_vn\n",
    "    \n",
    "    matches.loc[idx,'Elo_h_after']=elo_ln\n",
    "    matches.loc[idx,'Elo_a_after']=elo_vn \n",
    "    matches.loc[idx,'Elo_h_before']=elo_l\n",
    "    matches.loc[idx,'Elo_a_before']=elo_v"
   ]
  },
  {
   "cell_type": "markdown",
   "metadata": {},
   "source": [
    "## 2. Build model"
   ]
  },
  {
   "cell_type": "markdown",
   "metadata": {},
   "source": [
    "### 2.1 Filter dataframe "
   ]
  },
  {
   "cell_type": "code",
   "execution_count": 91,
   "metadata": {},
   "outputs": [],
   "source": [
    "# I only train the model with matches after 1990 and important tournaments. I removed the ooutliers, teams that scored more than 6 goals\n",
    "# These are the tournaments that I will use to train the model\n",
    "tournaments=['FIFA World Cup qualification', 'UEFA Euro qualification',\n",
    "       'African Cup of Nations qualification', 'AFC Asian Cup qualification',\n",
    "       'African Cup of Nations', 'CFU Caribbean Cup qualification',\n",
    "       'FIFA World Cup',  'UEFA Nations League', 'Gold Cup',\n",
    "       'Copa América',  'AFF Championship',\n",
    "       'UEFA Euro', 'African Nations Championship', 'AFC Asian Cup',\n",
    "       'CONCACAF Nations League','Friendly']\n",
    "       \n",
    "matches=matches[(pd.to_datetime(matches['date'])>dt.datetime(1989,12,31))&(matches['tournament'].isin(tournaments))]\n",
    "matches =matches[['date','home_team','away_team','home_score','away_score','neutral','Elo_a_before','Elo_h_before']]\n",
    "matches = matches[(matches['home_score']<6)&(matches['away_score']<6)].reset_index(drop=True)\n",
    "\n",
    "# Created a Dataframe for each team instead of each match\n",
    "home=matches[[\"date\",\"home_team\",\"home_score\",\"neutral\",\"Elo_a_before\",\"Elo_h_before\"]].rename(columns={'home_team':\"Team\",\"home_score\":\"Goals_for\",\"Elo_a_before\":\"Elo rival\",\"Elo_h_before\":\"Elo\"})\n",
    "away=matches[[\"date\",\"away_team\",\"away_score\",\"Elo_a_before\",\"Elo_h_before\"]].rename(columns={'away_team':\"Team\",\"away_score\":\"Goals_for\",\"Elo_a_before\":\"Elo\",\"Elo_h_before\":\"Elo rival\"}).assign(neutral=0).assign(local=0)\n",
    "\n",
    "# We create a variable that tell us if there is home advantage for home team\n",
    "home[\"local\"] = home[\"neutral\"].apply(lambda x: 1 if x==0 else 1)\n",
    "\n",
    "# Created a new dataframe with all data \n",
    "df = pd.concat([home,away],ignore_index=True).sort_values(\"date\").reset_index(drop=True)\n",
    "\n",
    "# Created a moving average variable and shifted to have the previos data of each game\n",
    "df[\"Moving_goals_for\"]=df.groupby('Team')['Goals_for'].transform(lambda x: x.rolling(3).mean()).shift()\n",
    "df[\"Moving_goals_for\"]=df.groupby(\"Team\")[\"Moving_goals_for\"].shift()\n",
    "\n",
    "# Create variable with elo difference \n",
    "df[\"Elo_difference\"] = df[\"Elo\"] - df[\"Elo rival\"]\n",
    "\n",
    "# Drop na and un used columns\n",
    "df=df.dropna()\n",
    "df=df.drop(columns=[\"Team\",\"Elo\",\"Elo rival\",\"neutral\"])"
   ]
  },
  {
   "cell_type": "code",
   "execution_count": 92,
   "metadata": {},
   "outputs": [
    {
     "data": {
      "text/plain": [
       "32       -94.740\n",
       "61       118.245\n",
       "64        -8.345\n",
       "66      -135.255\n",
       "71      -115.255\n",
       "          ...   \n",
       "45255    153.780\n",
       "45256     -6.435\n",
       "45257   -260.525\n",
       "45258   -121.560\n",
       "45259    -64.815\n",
       "Name: Elo_difference, Length: 44515, dtype: float64"
      ]
     },
     "execution_count": 92,
     "metadata": {},
     "output_type": "execute_result"
    }
   ],
   "source": [
    "df[\"Elo_difference\"]"
   ]
  },
  {
   "cell_type": "markdown",
   "metadata": {},
   "source": [
    "### 2.2 Build model"
   ]
  },
  {
   "cell_type": "code",
   "execution_count": 93,
   "metadata": {},
   "outputs": [
    {
     "data": {
      "text/html": [
       "<table class=\"simpletable\">\n",
       "<caption>Generalized Linear Model Regression Results</caption>\n",
       "<tr>\n",
       "  <th>Dep. Variable:</th>       <td>Goals_for</td>    <th>  No. Observations:  </th>  <td> 44515</td> \n",
       "</tr>\n",
       "<tr>\n",
       "  <th>Model:</th>                  <td>GLM</td>       <th>  Df Residuals:      </th>  <td> 44511</td> \n",
       "</tr>\n",
       "<tr>\n",
       "  <th>Model Family:</th>         <td>Poisson</td>     <th>  Df Model:          </th>  <td>     3</td> \n",
       "</tr>\n",
       "<tr>\n",
       "  <th>Link Function:</th>          <td>Log</td>       <th>  Scale:             </th> <td>  1.0000</td>\n",
       "</tr>\n",
       "<tr>\n",
       "  <th>Method:</th>                <td>IRLS</td>       <th>  Log-Likelihood:    </th> <td> -61872.</td>\n",
       "</tr>\n",
       "<tr>\n",
       "  <th>Date:</th>            <td>Tue, 08 Nov 2022</td> <th>  Deviance:          </th> <td>  51095.</td>\n",
       "</tr>\n",
       "<tr>\n",
       "  <th>Time:</th>                <td>15:39:56</td>     <th>  Pearson chi2:      </th> <td>4.52e+04</td>\n",
       "</tr>\n",
       "<tr>\n",
       "  <th>No. Iterations:</th>          <td>5</td>        <th>  Pseudo R-squ. (CS):</th>  <td>0.1766</td> \n",
       "</tr>\n",
       "<tr>\n",
       "  <th>Covariance Type:</th>     <td>nonrobust</td>    <th>                     </th>     <td> </td>   \n",
       "</tr>\n",
       "</table>\n",
       "<table class=\"simpletable\">\n",
       "<tr>\n",
       "          <td></td>            <th>coef</th>     <th>std err</th>      <th>z</th>      <th>P>|z|</th>  <th>[0.025</th>    <th>0.975]</th>  \n",
       "</tr>\n",
       "<tr>\n",
       "  <th>Intercept</th>        <td>   -0.0230</td> <td>    0.010</td> <td>   -2.350</td> <td> 0.019</td> <td>   -0.042</td> <td>   -0.004</td>\n",
       "</tr>\n",
       "<tr>\n",
       "  <th>local</th>            <td>    0.3371</td> <td>    0.009</td> <td>   38.994</td> <td> 0.000</td> <td>    0.320</td> <td>    0.354</td>\n",
       "</tr>\n",
       "<tr>\n",
       "  <th>Moving_goals_for</th> <td>   -0.0035</td> <td>    0.006</td> <td>   -0.615</td> <td> 0.539</td> <td>   -0.015</td> <td>    0.008</td>\n",
       "</tr>\n",
       "<tr>\n",
       "  <th>Elo_difference</th>   <td>    0.0022</td> <td>  2.6e-05</td> <td>   83.712</td> <td> 0.000</td> <td>    0.002</td> <td>    0.002</td>\n",
       "</tr>\n",
       "</table>"
      ],
      "text/plain": [
       "<class 'statsmodels.iolib.summary.Summary'>\n",
       "\"\"\"\n",
       "                 Generalized Linear Model Regression Results                  \n",
       "==============================================================================\n",
       "Dep. Variable:              Goals_for   No. Observations:                44515\n",
       "Model:                            GLM   Df Residuals:                    44511\n",
       "Model Family:                 Poisson   Df Model:                            3\n",
       "Link Function:                    Log   Scale:                          1.0000\n",
       "Method:                          IRLS   Log-Likelihood:                -61872.\n",
       "Date:                Tue, 08 Nov 2022   Deviance:                       51095.\n",
       "Time:                        15:39:56   Pearson chi2:                 4.52e+04\n",
       "No. Iterations:                     5   Pseudo R-squ. (CS):             0.1766\n",
       "Covariance Type:            nonrobust                                         \n",
       "====================================================================================\n",
       "                       coef    std err          z      P>|z|      [0.025      0.975]\n",
       "------------------------------------------------------------------------------------\n",
       "Intercept           -0.0230      0.010     -2.350      0.019      -0.042      -0.004\n",
       "local                0.3371      0.009     38.994      0.000       0.320       0.354\n",
       "Moving_goals_for    -0.0035      0.006     -0.615      0.539      -0.015       0.008\n",
       "Elo_difference       0.0022    2.6e-05     83.712      0.000       0.002       0.002\n",
       "====================================================================================\n",
       "\"\"\""
      ]
     },
     "execution_count": 93,
     "metadata": {},
     "output_type": "execute_result"
    }
   ],
   "source": [
    "model = smf.glm(formula=\"Goals_for ~ local + Moving_goals_for + Elo_difference\", data=df, \n",
    "                        family=sm.families.Poisson()).fit()\n",
    "model.summary()"
   ]
  },
  {
   "cell_type": "code",
   "execution_count": 94,
   "metadata": {},
   "outputs": [
    {
     "data": {
      "text/plain": [
       "Home    0.312985\n",
       "Draw    0.312402\n",
       "Away    0.374613\n",
       "dtype: float64"
      ]
     },
     "execution_count": 94,
     "metadata": {},
     "output_type": "execute_result"
    }
   ],
   "source": [
    "# Convert values to dataframe\n",
    "\n",
    "argentina_elo=1733.03\n",
    "brazil_elo=1763.62\n",
    "argentina_data = pd.DataFrame(data={'local':0,'Moving_goals_for':2.0,'Elo_difference':argentina_elo-brazil_elo},index=[1])\n",
    "brazil_data = pd.DataFrame(data={'local':0,'Moving_goals_for':1.0,'Elo_difference':brazil_elo-argentina_elo},index=[1])\n",
    "\n",
    "# Get avg goals predicted by model\n",
    "argentina_avg_goals = model.predict(argentina_data).values[0]\n",
    "brazil_avg_goals = model.predict(brazil_data).values[0]\n",
    "\n",
    "# Get probability of score 1 to 5 goals for each team\n",
    "team_pred = [[poisson.pmf(i, team_avg) for i in range(0, 5)] for team_avg in [argentina_avg_goals, brazil_avg_goals]]\n",
    "\n",
    "#Calculate joint probability\n",
    "\n",
    "joint_proba=np.outer(np.array(team_pred[0]), np.array(team_pred[1]))\n",
    "\n",
    "#Calculate probability for Home, Draw and Away\n",
    "pd.Series([1-np.sum(np.triu(joint_proba, 1))-np.sum(np.diag(joint_proba)),np.sum(np.diag(joint_proba)),np.sum(np.triu(joint_proba, 1))],index=['Home','Draw','Away'])"
   ]
  }
 ],
 "metadata": {
  "kernelspec": {
   "display_name": "Python 3.9.12",
   "language": "python",
   "name": "python3"
  },
  "language_info": {
   "codemirror_mode": {
    "name": "ipython",
    "version": 3
   },
   "file_extension": ".py",
   "mimetype": "text/x-python",
   "name": "python",
   "nbconvert_exporter": "python",
   "pygments_lexer": "ipython3",
   "version": "3.9.12"
  },
  "orig_nbformat": 4,
  "vscode": {
   "interpreter": {
    "hash": "7a629f88739bb99df36ee3169b5f674a3a3506dd75f237fb1b2703d7911537b3"
   }
  }
 },
 "nbformat": 4,
 "nbformat_minor": 2
}
